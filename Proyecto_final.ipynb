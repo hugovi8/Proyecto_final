{
 "cells": [
  {
   "cell_type": "markdown",
   "metadata": {},
   "source": [
    "## Proyecto Final\n",
    "### Hugo Villanueva\n",
    "#### Ciencia de Datos en Python\n",
    "#### Postgrado en análisis y predicción de datos"
   ]
  },
  {
   "cell_type": "code",
   "execution_count": 36,
   "metadata": {},
   "outputs": [],
   "source": [
    "import numpy as np\n",
    "import matplotlib.pyplot as plt\n",
    "import seaborn as sns\n",
    "import sklearn as skl"
   ]
  },
  {
   "cell_type": "markdown",
   "metadata": {},
   "source": [
    "### Separación de datos"
   ]
  },
  {
   "cell_type": "code",
   "execution_count": 13,
   "metadata": {},
   "outputs": [],
   "source": [
    "main_data = np.load('proyecto_training_data.npy')"
   ]
  },
  {
   "cell_type": "code",
   "execution_count": 9,
   "metadata": {},
   "outputs": [
    {
     "data": {
      "text/plain": [
       "(1460, 6)"
      ]
     },
     "execution_count": 9,
     "metadata": {},
     "output_type": "execute_result"
    }
   ],
   "source": [
    "np.shape(main_data)"
   ]
  },
  {
   "cell_type": "code",
   "execution_count": 10,
   "metadata": {},
   "outputs": [],
   "source": [
    "training_data = main_data[0:1168] # El 80% de la cantidad de datos es 1168\n",
    "test_data = main_data[1168:] #El resto de los datos"
   ]
  },
  {
   "cell_type": "markdown",
   "metadata": {},
   "source": [
    "### Análisis exploratorio"
   ]
  },
  {
   "cell_type": "code",
   "execution_count": 38,
   "metadata": {},
   "outputs": [],
   "source": [
    "caracteristicas = ['Precio de venta', 'Calidad', 'Área primer piso', 'Total de cuartos', 'Año de construcción', 'Largo Fachada']"
   ]
  },
  {
   "cell_type": "code",
   "execution_count": 41,
   "metadata": {},
   "outputs": [
    {
     "name": "stdout",
     "output_type": "stream",
     "text": [
      "Media Precio de venta = 180921.19589041095\n",
      "Valor Máximo Precio de venta = 755000.0\n",
      "Valor Minimo Precio de venta = 34900.0\n",
      "Rango Precio de venta = 720100.0\n",
      "Desviación estandar Precio de venta = 79415.29188606751 \n",
      "\n",
      "Media Calidad = 6.0993150684931505\n",
      "Valor Máximo Calidad = 10.0\n",
      "Valor Minimo Calidad = 1.0\n",
      "Rango Calidad = 9.0\n",
      "Desviación estandar Calidad = 1.3825228366585953 \n",
      "\n",
      "Media Área primer piso = 1162.626712328767\n",
      "Valor Máximo Área primer piso = 4692.0\n",
      "Valor Minimo Área primer piso = 334.0\n",
      "Rango Área primer piso = 4358.0\n",
      "Desviación estandar Área primer piso = 386.45532230228963 \n",
      "\n",
      "Media Total de cuartos = 6.517808219178082\n",
      "Valor Máximo Total de cuartos = 14.0\n",
      "Valor Minimo Total de cuartos = 2.0\n",
      "Rango Total de cuartos = 12.0\n",
      "Desviación estandar Total de cuartos = 1.624836553698191 \n",
      "\n",
      "Media Año de construcción = 1971.267808219178\n",
      "Valor Máximo Año de construcción = 2010.0\n",
      "Valor Minimo Año de construcción = 1872.0\n",
      "Rango Año de construcción = 138.0\n",
      "Desviación estandar Año de construcción = 30.192558810489448 \n",
      "\n",
      "Media Largo Fachada = 70.04995836802665\n",
      "Valor Máximo Largo Fachada = 313.0\n",
      "Valor Minimo Largo Fachada = 21.0\n",
      "Rango Largo Fachada = nan\n",
      "Desviación estandar Largo Fachada = 24.27463944767604 \n",
      "\n"
     ]
    }
   ],
   "source": [
    "for lon in range(0,len(caracteristicas)):\n",
    "    print('Media',caracteristicas[lon],'=',np.nanmean(main_data[:,lon]))\n",
    "    print('Valor Máximo',caracteristicas[lon],'=',np.nanmax(main_data[:,lon]))\n",
    "    print('Valor Minimo',caracteristicas[lon],'=',np.nanmin(main_data[:,lon]))\n",
    "    print('Rango',caracteristicas[lon],'=',np.ptp(main_data[:,lon]))\n",
    "    print('Desviación estandar',caracteristicas[lon],'=',np.nanstd(main_data[:,lon]),'\\n')\n",
    "    \n",
    "    "
   ]
  },
  {
   "cell_type": "markdown",
   "metadata": {},
   "source": [
    "### Histogramas"
   ]
  },
  {
   "cell_type": "code",
   "execution_count": null,
   "metadata": {},
   "outputs": [],
   "source": []
  }
 ],
 "metadata": {
  "kernelspec": {
   "display_name": "Python 3",
   "language": "python",
   "name": "python3"
  },
  "language_info": {
   "codemirror_mode": {
    "name": "ipython",
    "version": 3
   },
   "file_extension": ".py",
   "mimetype": "text/x-python",
   "name": "python",
   "nbconvert_exporter": "python",
   "pygments_lexer": "ipython3",
   "version": "3.8.3"
  }
 },
 "nbformat": 4,
 "nbformat_minor": 4
}
